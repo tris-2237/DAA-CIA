{
 "cells": [
  {
   "cell_type": "code",
   "execution_count": 1,
   "id": "5890fa1e",
   "metadata": {},
   "outputs": [],
   "source": [
    "import numpy as np\n",
    "import pandas as pd\n",
    "import matplotlib.pyplot as plt"
   ]
  },
  {
   "cell_type": "code",
   "execution_count": 2,
   "id": "7bc9ca99",
   "metadata": {},
   "outputs": [],
   "source": [
    "df=pd.read_csv(r\"D:\\SNU\\4th sem\\DESIGN AND ANALYSIS OF ALGORITHMS\\CIA2\\Bank_Personal_Loan_Modelling.csv\")"
   ]
  },
  {
   "cell_type": "code",
   "execution_count": 3,
   "id": "05f74e9b",
   "metadata": {},
   "outputs": [
    {
     "data": {
      "text/html": [
       "<div>\n",
       "<style scoped>\n",
       "    .dataframe tbody tr th:only-of-type {\n",
       "        vertical-align: middle;\n",
       "    }\n",
       "\n",
       "    .dataframe tbody tr th {\n",
       "        vertical-align: top;\n",
       "    }\n",
       "\n",
       "    .dataframe thead th {\n",
       "        text-align: right;\n",
       "    }\n",
       "</style>\n",
       "<table border=\"1\" class=\"dataframe\">\n",
       "  <thead>\n",
       "    <tr style=\"text-align: right;\">\n",
       "      <th></th>\n",
       "      <th>ID</th>\n",
       "      <th>Age</th>\n",
       "      <th>Experience</th>\n",
       "      <th>Income</th>\n",
       "      <th>ZIP Code</th>\n",
       "      <th>Family</th>\n",
       "      <th>CCAvg</th>\n",
       "      <th>Education</th>\n",
       "      <th>Mortgage</th>\n",
       "      <th>Personal Loan</th>\n",
       "      <th>Securities Account</th>\n",
       "      <th>CD Account</th>\n",
       "      <th>Online</th>\n",
       "      <th>CreditCard</th>\n",
       "    </tr>\n",
       "  </thead>\n",
       "  <tbody>\n",
       "    <tr>\n",
       "      <th>0</th>\n",
       "      <td>1</td>\n",
       "      <td>25</td>\n",
       "      <td>1</td>\n",
       "      <td>49</td>\n",
       "      <td>91107</td>\n",
       "      <td>4</td>\n",
       "      <td>1.6</td>\n",
       "      <td>1</td>\n",
       "      <td>0</td>\n",
       "      <td>0</td>\n",
       "      <td>1</td>\n",
       "      <td>0</td>\n",
       "      <td>0</td>\n",
       "      <td>0</td>\n",
       "    </tr>\n",
       "    <tr>\n",
       "      <th>1</th>\n",
       "      <td>2</td>\n",
       "      <td>45</td>\n",
       "      <td>19</td>\n",
       "      <td>34</td>\n",
       "      <td>90089</td>\n",
       "      <td>3</td>\n",
       "      <td>1.5</td>\n",
       "      <td>1</td>\n",
       "      <td>0</td>\n",
       "      <td>0</td>\n",
       "      <td>1</td>\n",
       "      <td>0</td>\n",
       "      <td>0</td>\n",
       "      <td>0</td>\n",
       "    </tr>\n",
       "    <tr>\n",
       "      <th>2</th>\n",
       "      <td>3</td>\n",
       "      <td>39</td>\n",
       "      <td>15</td>\n",
       "      <td>11</td>\n",
       "      <td>94720</td>\n",
       "      <td>1</td>\n",
       "      <td>1.0</td>\n",
       "      <td>1</td>\n",
       "      <td>0</td>\n",
       "      <td>0</td>\n",
       "      <td>0</td>\n",
       "      <td>0</td>\n",
       "      <td>0</td>\n",
       "      <td>0</td>\n",
       "    </tr>\n",
       "    <tr>\n",
       "      <th>3</th>\n",
       "      <td>4</td>\n",
       "      <td>35</td>\n",
       "      <td>9</td>\n",
       "      <td>100</td>\n",
       "      <td>94112</td>\n",
       "      <td>1</td>\n",
       "      <td>2.7</td>\n",
       "      <td>2</td>\n",
       "      <td>0</td>\n",
       "      <td>0</td>\n",
       "      <td>0</td>\n",
       "      <td>0</td>\n",
       "      <td>0</td>\n",
       "      <td>0</td>\n",
       "    </tr>\n",
       "    <tr>\n",
       "      <th>4</th>\n",
       "      <td>5</td>\n",
       "      <td>35</td>\n",
       "      <td>8</td>\n",
       "      <td>45</td>\n",
       "      <td>91330</td>\n",
       "      <td>4</td>\n",
       "      <td>1.0</td>\n",
       "      <td>2</td>\n",
       "      <td>0</td>\n",
       "      <td>0</td>\n",
       "      <td>0</td>\n",
       "      <td>0</td>\n",
       "      <td>0</td>\n",
       "      <td>1</td>\n",
       "    </tr>\n",
       "  </tbody>\n",
       "</table>\n",
       "</div>"
      ],
      "text/plain": [
       "   ID  Age  Experience  Income  ZIP Code  Family  CCAvg  Education  Mortgage  \\\n",
       "0   1   25           1      49     91107       4    1.6          1         0   \n",
       "1   2   45          19      34     90089       3    1.5          1         0   \n",
       "2   3   39          15      11     94720       1    1.0          1         0   \n",
       "3   4   35           9     100     94112       1    2.7          2         0   \n",
       "4   5   35           8      45     91330       4    1.0          2         0   \n",
       "\n",
       "   Personal Loan  Securities Account  CD Account  Online  CreditCard  \n",
       "0              0                   1           0       0           0  \n",
       "1              0                   1           0       0           0  \n",
       "2              0                   0           0       0           0  \n",
       "3              0                   0           0       0           0  \n",
       "4              0                   0           0       0           1  "
      ]
     },
     "execution_count": 3,
     "metadata": {},
     "output_type": "execute_result"
    }
   ],
   "source": [
    "df.head()"
   ]
  },
  {
   "cell_type": "code",
   "execution_count": 4,
   "id": "5e81fb7c",
   "metadata": {},
   "outputs": [],
   "source": [
    "df.drop(['ID','ZIP Code'],axis=1,inplace=True)"
   ]
  },
  {
   "cell_type": "code",
   "execution_count": 5,
   "id": "0ef30c0b",
   "metadata": {},
   "outputs": [
    {
     "data": {
      "text/plain": [
       "Index(['Age', 'Experience', 'Income', 'Family', 'CCAvg', 'Education',\n",
       "       'Mortgage', 'Personal Loan', 'Securities Account', 'CD Account',\n",
       "       'Online', 'CreditCard'],\n",
       "      dtype='object')"
      ]
     },
     "execution_count": 5,
     "metadata": {},
     "output_type": "execute_result"
    }
   ],
   "source": [
    "df.columns"
   ]
  },
  {
   "cell_type": "code",
   "execution_count": 6,
   "id": "1068ef57",
   "metadata": {},
   "outputs": [],
   "source": [
    "df=df[['Age', 'Experience', 'Income','Family','CCAvg',\n",
    "       'Education', 'Mortgage', 'Securities Account',\n",
    "       'CD Account', 'Online', 'CreditCard','Personal Loan']]"
   ]
  },
  {
   "cell_type": "code",
   "execution_count": 7,
   "id": "2cd07620",
   "metadata": {},
   "outputs": [],
   "source": [
    "x= df.iloc[:,:-1].values\n",
    "y= df.iloc[:, -1].values"
   ]
  },
  {
   "cell_type": "code",
   "execution_count": 8,
   "id": "78bc8b58",
   "metadata": {},
   "outputs": [],
   "source": [
    "from sklearn.model_selection import train_test_split\n",
    "\n",
    "x_train,x_test,y_train,y_test = train_test_split(x,y,test_size=0.25,random_state=0)"
   ]
  },
  {
   "cell_type": "code",
   "execution_count": 9,
   "id": "0475a204",
   "metadata": {},
   "outputs": [],
   "source": [
    "from sklearn.preprocessing import StandardScaler\n",
    "\n",
    "sc = StandardScaler()\n",
    "x_train = sc.fit_transform(x_train)\n",
    "x_test = sc.transform(x_test)"
   ]
  },
  {
   "cell_type": "code",
   "execution_count": 10,
   "id": "9424640f",
   "metadata": {},
   "outputs": [],
   "source": [
    "from keras.models import Sequential\n",
    "from keras.layers import Dense"
   ]
  },
  {
   "cell_type": "code",
   "execution_count": 12,
   "id": "0aa3112d",
   "metadata": {},
   "outputs": [],
   "source": [
    "model=Sequential()\n",
    "model.add(Dense(units=6,activation=\"relu\"))\n",
    "model.add(Dense(units=6,activation=\"relu\"))#second hidden layer is created\n",
    "model.add(Dense(units=1,activation=\"sigmoid\"))#another layer with different activation fn(o/p layer))"
   ]
  },
  {
   "cell_type": "code",
   "execution_count": 13,
   "id": "af2e16a7",
   "metadata": {},
   "outputs": [],
   "source": [
    "model.compile(optimizer=\"adam\",loss=\"binary_crossentropy\",metrics=\"accuracy\")"
   ]
  },
  {
   "cell_type": "code",
   "execution_count": 19,
   "id": "d8410768",
   "metadata": {},
   "outputs": [],
   "source": [
    "def formPheremoneMatrix(model):\n",
    "    nv = len(model).astype(bool)\n",
    "    pheremones = np.ones((nv,nv))\n",
    "    return pheremones"
   ]
  },
  {
   "cell_type": "code",
   "execution_count": 20,
   "id": "0d9f9377",
   "metadata": {},
   "outputs": [],
   "source": [
    "def chooseNextVertex(model, pheremones, currPos):\n",
    "    denominator = np.dot(model[currPos], pheremones[currPos])\n",
    "    numerator = model[currPos] * pheremones[currPos]\n",
    "    \n",
    "    probabilities = numerator/denominator\n",
    "    \n",
    "    \n",
    "    rouletteWheel = np.cumsum(probabilities)\n",
    "    \n",
    "    rouletteBall = np.random.random()\n",
    "    \n",
    "    nextVertex = np.where(rouletteWheel >= rouletteBall)[0][0]\n",
    "    \n",
    "    return nextVertex"
   ]
  },
  {
   "cell_type": "code",
   "execution_count": 21,
   "id": "2717156b",
   "metadata": {},
   "outputs": [],
   "source": [
    "def traverse(model, pheremones, start, end):\n",
    "    curr = start\n",
    "    path = [curr]\n",
    "    cost = 0\n",
    "    prev = start\n",
    "    \n",
    "    while curr != end:\n",
    "        nextVertex = chooseNextVertex(model, pheremones, curr)\n",
    "        \n",
    "        while nextVertex == prev:\n",
    "            nextVertex = chooseNextVertex(model, pheremones, curr)\n",
    "        \n",
    "        cost += model[curr][nextVertex]\n",
    "        path += [nextVertex]\n",
    "        prev = curr\n",
    "        curr = nextVertex\n",
    "        \n",
    "    \n",
    "    return path, cost"
   ]
  },
  {
   "cell_type": "code",
   "execution_count": 22,
   "id": "e24042dc",
   "metadata": {},
   "outputs": [],
   "source": [
    "\n",
    "def releaseGeneration(model, pheremones, start, end, size = 10):\n",
    "    paths = []\n",
    "    costs = []\n",
    "    for i in range(size):\n",
    "        p, c = traverse(model, pheremones, start, end)\n",
    "        paths += [p]\n",
    "        costs += [c]\n",
    "    costs = np.array(costs)    \n",
    "    \n",
    "    return paths, costs"
   ]
  },
  {
   "cell_type": "code",
   "execution_count": 23,
   "id": "aeef0751",
   "metadata": {},
   "outputs": [],
   "source": [
    "def updatePheremones(paths, costs, pheremones, decay = 0):\n",
    "    pheremones = (1-decay)*pheremones\n",
    "    \n",
    "    costs = 1/costs\n",
    "    for p in range(len(paths)):\n",
    "        path = paths[p]\n",
    "        for i in range(len(path) - 1):\n",
    "            pheremones[path[i]][path[i+1]] += costs[p]\n",
    "    \n",
    "    return pheremones"
   ]
  },
  {
   "cell_type": "code",
   "execution_count": 24,
   "id": "92370b43",
   "metadata": {},
   "outputs": [
    {
     "name": "stdout",
     "output_type": "stream",
     "text": [
      "Epoch 1/100\n",
      "125/125 [==============================] - 1s 2ms/step - loss: 0.5467 - accuracy: 0.8571\n",
      "Epoch 2/100\n",
      "125/125 [==============================] - 0s 2ms/step - loss: 0.3269 - accuracy: 0.9008\n",
      "Epoch 3/100\n",
      "125/125 [==============================] - 0s 2ms/step - loss: 0.2341 - accuracy: 0.9008\n",
      "Epoch 4/100\n",
      "125/125 [==============================] - 0s 2ms/step - loss: 0.2033 - accuracy: 0.9008\n",
      "Epoch 5/100\n",
      "125/125 [==============================] - 0s 2ms/step - loss: 0.1880 - accuracy: 0.9008\n",
      "Epoch 6/100\n",
      "125/125 [==============================] - 0s 2ms/step - loss: 0.1781 - accuracy: 0.9008\n",
      "Epoch 7/100\n",
      "125/125 [==============================] - 0s 2ms/step - loss: 0.1700 - accuracy: 0.9011\n",
      "Epoch 8/100\n",
      "125/125 [==============================] - 0s 2ms/step - loss: 0.1627 - accuracy: 0.9125\n",
      "Epoch 9/100\n",
      "125/125 [==============================] - 0s 2ms/step - loss: 0.1544 - accuracy: 0.9277\n",
      "Epoch 10/100\n",
      "125/125 [==============================] - 0s 2ms/step - loss: 0.1439 - accuracy: 0.9413\n",
      "Epoch 11/100\n",
      "125/125 [==============================] - 0s 2ms/step - loss: 0.1323 - accuracy: 0.9496\n",
      "Epoch 12/100\n",
      "125/125 [==============================] - 0s 2ms/step - loss: 0.1225 - accuracy: 0.9555\n",
      "Epoch 13/100\n",
      "125/125 [==============================] - 0s 2ms/step - loss: 0.1149 - accuracy: 0.9568\n",
      "Epoch 14/100\n",
      "125/125 [==============================] - 0s 2ms/step - loss: 0.1088 - accuracy: 0.9587\n",
      "Epoch 15/100\n",
      "125/125 [==============================] - 0s 2ms/step - loss: 0.1031 - accuracy: 0.9619\n",
      "Epoch 16/100\n",
      "125/125 [==============================] - 0s 2ms/step - loss: 0.0966 - accuracy: 0.9640\n",
      "Epoch 17/100\n",
      "125/125 [==============================] - 0s 2ms/step - loss: 0.0915 - accuracy: 0.9672\n",
      "Epoch 18/100\n",
      "125/125 [==============================] - 0s 2ms/step - loss: 0.0869 - accuracy: 0.9701\n",
      "Epoch 19/100\n",
      "125/125 [==============================] - 0s 2ms/step - loss: 0.0830 - accuracy: 0.9707\n",
      "Epoch 20/100\n",
      "125/125 [==============================] - 0s 2ms/step - loss: 0.0795 - accuracy: 0.9723\n",
      "Epoch 21/100\n",
      "125/125 [==============================] - 0s 2ms/step - loss: 0.0766 - accuracy: 0.9749\n",
      "Epoch 22/100\n",
      "125/125 [==============================] - 0s 2ms/step - loss: 0.0741 - accuracy: 0.9752\n",
      "Epoch 23/100\n",
      "125/125 [==============================] - 0s 2ms/step - loss: 0.0730 - accuracy: 0.9752\n",
      "Epoch 24/100\n",
      "125/125 [==============================] - 0s 2ms/step - loss: 0.0712 - accuracy: 0.9760\n",
      "Epoch 25/100\n",
      "125/125 [==============================] - 0s 2ms/step - loss: 0.0700 - accuracy: 0.9776\n",
      "Epoch 26/100\n",
      "125/125 [==============================] - 0s 2ms/step - loss: 0.0691 - accuracy: 0.9771\n",
      "Epoch 27/100\n",
      "125/125 [==============================] - 0s 2ms/step - loss: 0.0680 - accuracy: 0.9776\n",
      "Epoch 28/100\n",
      "125/125 [==============================] - 0s 2ms/step - loss: 0.0681 - accuracy: 0.9773\n",
      "Epoch 29/100\n",
      "125/125 [==============================] - 0s 2ms/step - loss: 0.0670 - accuracy: 0.9773\n",
      "Epoch 30/100\n",
      "125/125 [==============================] - 0s 2ms/step - loss: 0.0658 - accuracy: 0.9779\n",
      "Epoch 31/100\n",
      "125/125 [==============================] - 0s 2ms/step - loss: 0.0656 - accuracy: 0.9784\n",
      "Epoch 32/100\n",
      "125/125 [==============================] - 0s 2ms/step - loss: 0.0651 - accuracy: 0.9792\n",
      "Epoch 33/100\n",
      "125/125 [==============================] - 0s 2ms/step - loss: 0.0646 - accuracy: 0.9776\n",
      "Epoch 34/100\n",
      "125/125 [==============================] - 0s 2ms/step - loss: 0.0644 - accuracy: 0.9781\n",
      "Epoch 35/100\n",
      "125/125 [==============================] - 0s 2ms/step - loss: 0.0637 - accuracy: 0.9781\n",
      "Epoch 36/100\n",
      "125/125 [==============================] - 0s 2ms/step - loss: 0.0636 - accuracy: 0.9781\n",
      "Epoch 37/100\n",
      "125/125 [==============================] - 0s 2ms/step - loss: 0.0630 - accuracy: 0.9789\n",
      "Epoch 38/100\n",
      "125/125 [==============================] - 0s 2ms/step - loss: 0.0623 - accuracy: 0.9792\n",
      "Epoch 39/100\n",
      "125/125 [==============================] - 0s 2ms/step - loss: 0.0622 - accuracy: 0.9792\n",
      "Epoch 40/100\n",
      "125/125 [==============================] - 0s 2ms/step - loss: 0.0617 - accuracy: 0.9789\n",
      "Epoch 41/100\n",
      "125/125 [==============================] - 0s 3ms/step - loss: 0.0618 - accuracy: 0.9795\n",
      "Epoch 42/100\n",
      "125/125 [==============================] - 0s 3ms/step - loss: 0.0616 - accuracy: 0.9803\n",
      "Epoch 43/100\n",
      "125/125 [==============================] - 0s 3ms/step - loss: 0.0606 - accuracy: 0.9797\n",
      "Epoch 44/100\n",
      "125/125 [==============================] - 0s 2ms/step - loss: 0.0606 - accuracy: 0.9789\n",
      "Epoch 45/100\n",
      "125/125 [==============================] - 0s 2ms/step - loss: 0.0602 - accuracy: 0.9787\n",
      "Epoch 46/100\n",
      "125/125 [==============================] - 0s 2ms/step - loss: 0.0599 - accuracy: 0.9803\n",
      "Epoch 47/100\n",
      "125/125 [==============================] - 0s 3ms/step - loss: 0.0596 - accuracy: 0.9795\n",
      "Epoch 48/100\n",
      "125/125 [==============================] - 0s 2ms/step - loss: 0.0596 - accuracy: 0.9795\n",
      "Epoch 49/100\n",
      "125/125 [==============================] - 0s 3ms/step - loss: 0.0592 - accuracy: 0.9789\n",
      "Epoch 50/100\n",
      "125/125 [==============================] - 0s 2ms/step - loss: 0.0588 - accuracy: 0.9805\n",
      "Epoch 51/100\n",
      "125/125 [==============================] - 0s 2ms/step - loss: 0.0588 - accuracy: 0.9805\n",
      "Epoch 52/100\n",
      "125/125 [==============================] - 0s 2ms/step - loss: 0.0586 - accuracy: 0.9805\n",
      "Epoch 53/100\n",
      "125/125 [==============================] - 0s 2ms/step - loss: 0.0581 - accuracy: 0.9811\n",
      "Epoch 54/100\n",
      "125/125 [==============================] - 0s 2ms/step - loss: 0.0579 - accuracy: 0.9800\n",
      "Epoch 55/100\n",
      "125/125 [==============================] - 0s 2ms/step - loss: 0.0578 - accuracy: 0.9811\n",
      "Epoch 56/100\n",
      "125/125 [==============================] - 0s 2ms/step - loss: 0.0577 - accuracy: 0.9800\n",
      "Epoch 57/100\n",
      "125/125 [==============================] - 0s 2ms/step - loss: 0.0572 - accuracy: 0.9797\n",
      "Epoch 58/100\n",
      "125/125 [==============================] - 0s 2ms/step - loss: 0.0575 - accuracy: 0.9800\n",
      "Epoch 59/100\n",
      "125/125 [==============================] - 0s 2ms/step - loss: 0.0569 - accuracy: 0.9797\n",
      "Epoch 60/100\n",
      "125/125 [==============================] - 0s 2ms/step - loss: 0.0568 - accuracy: 0.9803\n",
      "Epoch 61/100\n",
      "125/125 [==============================] - 0s 2ms/step - loss: 0.0569 - accuracy: 0.9803\n",
      "Epoch 62/100\n",
      "125/125 [==============================] - 0s 2ms/step - loss: 0.0571 - accuracy: 0.9803\n",
      "Epoch 63/100\n",
      "125/125 [==============================] - 0s 2ms/step - loss: 0.0565 - accuracy: 0.9800\n",
      "Epoch 64/100\n",
      "125/125 [==============================] - 0s 2ms/step - loss: 0.0564 - accuracy: 0.9792\n",
      "Epoch 65/100\n",
      "125/125 [==============================] - 0s 2ms/step - loss: 0.0562 - accuracy: 0.9808\n",
      "Epoch 66/100\n",
      "125/125 [==============================] - 0s 2ms/step - loss: 0.0559 - accuracy: 0.9808\n",
      "Epoch 67/100\n",
      "125/125 [==============================] - 0s 2ms/step - loss: 0.0561 - accuracy: 0.9805\n",
      "Epoch 68/100\n",
      "125/125 [==============================] - 0s 2ms/step - loss: 0.0558 - accuracy: 0.9811\n",
      "Epoch 69/100\n",
      "125/125 [==============================] - 0s 2ms/step - loss: 0.0559 - accuracy: 0.9803\n",
      "Epoch 70/100\n",
      "125/125 [==============================] - 0s 2ms/step - loss: 0.0555 - accuracy: 0.9808\n",
      "Epoch 71/100\n",
      "125/125 [==============================] - 0s 2ms/step - loss: 0.0556 - accuracy: 0.9803\n",
      "Epoch 72/100\n",
      "125/125 [==============================] - 0s 2ms/step - loss: 0.0556 - accuracy: 0.9808\n",
      "Epoch 73/100\n",
      "125/125 [==============================] - 0s 2ms/step - loss: 0.0552 - accuracy: 0.9813\n",
      "Epoch 74/100\n",
      "125/125 [==============================] - 0s 2ms/step - loss: 0.0551 - accuracy: 0.9797\n",
      "Epoch 75/100\n",
      "125/125 [==============================] - 0s 2ms/step - loss: 0.0549 - accuracy: 0.9816\n",
      "Epoch 76/100\n",
      "125/125 [==============================] - 0s 2ms/step - loss: 0.0547 - accuracy: 0.9813\n",
      "Epoch 77/100\n",
      "125/125 [==============================] - 0s 2ms/step - loss: 0.0546 - accuracy: 0.9808\n",
      "Epoch 78/100\n",
      "125/125 [==============================] - 0s 2ms/step - loss: 0.0545 - accuracy: 0.9808\n",
      "Epoch 79/100\n",
      "125/125 [==============================] - 0s 2ms/step - loss: 0.0541 - accuracy: 0.9803\n",
      "Epoch 80/100\n",
      "125/125 [==============================] - 0s 2ms/step - loss: 0.0540 - accuracy: 0.9816\n",
      "Epoch 81/100\n",
      "125/125 [==============================] - 0s 2ms/step - loss: 0.0536 - accuracy: 0.9824\n",
      "Epoch 82/100\n",
      "125/125 [==============================] - 0s 2ms/step - loss: 0.0536 - accuracy: 0.9819\n",
      "Epoch 83/100\n",
      "125/125 [==============================] - 0s 2ms/step - loss: 0.0537 - accuracy: 0.9813\n",
      "Epoch 84/100\n",
      "125/125 [==============================] - 0s 2ms/step - loss: 0.0530 - accuracy: 0.9816\n",
      "Epoch 85/100\n",
      "125/125 [==============================] - 0s 2ms/step - loss: 0.0541 - accuracy: 0.9797\n",
      "Epoch 86/100\n",
      "125/125 [==============================] - 0s 2ms/step - loss: 0.0532 - accuracy: 0.9827\n",
      "Epoch 87/100\n",
      "125/125 [==============================] - 0s 2ms/step - loss: 0.0533 - accuracy: 0.9819\n",
      "Epoch 88/100\n",
      "125/125 [==============================] - 0s 2ms/step - loss: 0.0532 - accuracy: 0.9808\n",
      "Epoch 89/100\n",
      "125/125 [==============================] - 0s 2ms/step - loss: 0.0527 - accuracy: 0.9819\n",
      "Epoch 90/100\n",
      "125/125 [==============================] - 0s 2ms/step - loss: 0.0523 - accuracy: 0.9819\n",
      "Epoch 91/100\n",
      "125/125 [==============================] - 0s 2ms/step - loss: 0.0523 - accuracy: 0.9813\n",
      "Epoch 92/100\n",
      "125/125 [==============================] - 0s 2ms/step - loss: 0.0520 - accuracy: 0.9835\n",
      "Epoch 93/100\n",
      "125/125 [==============================] - 0s 2ms/step - loss: 0.0523 - accuracy: 0.9811\n",
      "Epoch 94/100\n",
      "125/125 [==============================] - 0s 2ms/step - loss: 0.0518 - accuracy: 0.9827\n",
      "Epoch 95/100\n",
      "125/125 [==============================] - 0s 2ms/step - loss: 0.0516 - accuracy: 0.9816\n",
      "Epoch 96/100\n",
      "125/125 [==============================] - 0s 2ms/step - loss: 0.0516 - accuracy: 0.9829\n",
      "Epoch 97/100\n",
      "125/125 [==============================] - 0s 2ms/step - loss: 0.0516 - accuracy: 0.9821\n",
      "Epoch 98/100\n",
      "125/125 [==============================] - 0s 2ms/step - loss: 0.0510 - accuracy: 0.9837\n",
      "Epoch 99/100\n",
      "125/125 [==============================] - 0s 2ms/step - loss: 0.0513 - accuracy: 0.9829\n",
      "Epoch 100/100\n",
      "125/125 [==============================] - 0s 2ms/step - loss: 0.0506 - accuracy: 0.9835\n"
     ]
    },
    {
     "data": {
      "text/plain": [
       "<keras.callbacks.History at 0x2044c1194f0>"
      ]
     },
     "execution_count": 24,
     "metadata": {},
     "output_type": "execute_result"
    }
   ],
   "source": [
    "model.fit(x_train, y_train, batch_size = 30, epochs = 100)"
   ]
  },
  {
   "cell_type": "code",
   "execution_count": 26,
   "id": "ed76b2f1",
   "metadata": {},
   "outputs": [
    {
     "data": {
      "text/plain": [
       "array([[1134,    8],\n",
       "       [  17,   91]], dtype=int64)"
      ]
     },
     "execution_count": 26,
     "metadata": {},
     "output_type": "execute_result"
    }
   ],
   "source": [
    "from sklearn.metrics import confusion_matrix\n",
    "from sklearn.metrics import accuracy_score\n",
    "confusion_matrix(y_test, y_pred)"
   ]
  },
  {
   "cell_type": "code",
   "execution_count": 27,
   "id": "3d57aae2",
   "metadata": {},
   "outputs": [
    {
     "data": {
      "text/plain": [
       "0.98"
      ]
     },
     "execution_count": 27,
     "metadata": {},
     "output_type": "execute_result"
    }
   ],
   "source": [
    "accuracy_score(y_test, y_pred)"
   ]
  },
  {
   "cell_type": "code",
   "execution_count": null,
   "id": "872f28d0",
   "metadata": {},
   "outputs": [],
   "source": []
  }
 ],
 "metadata": {
  "kernelspec": {
   "display_name": "Python 3 (ipykernel)",
   "language": "python",
   "name": "python3"
  },
  "language_info": {
   "codemirror_mode": {
    "name": "ipython",
    "version": 3
   },
   "file_extension": ".py",
   "mimetype": "text/x-python",
   "name": "python",
   "nbconvert_exporter": "python",
   "pygments_lexer": "ipython3",
   "version": "3.9.13"
  }
 },
 "nbformat": 4,
 "nbformat_minor": 5
}
